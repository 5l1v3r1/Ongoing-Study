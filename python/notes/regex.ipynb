{
 "cells": [
  {
   "cell_type": "code",
   "execution_count": 8,
   "metadata": {},
   "outputs": [
    {
     "name": "stdout",
     "output_type": "stream",
     "text": [
      "<_sre.SRE_Match object; span=(0, 13), match='Hello, world!'>\n",
      "<_sre.SRE_Match object; span=(0, 1), match='H'>\n",
      "<_sre.SRE_Match object; span=(0, 6), match='Hello,'>\n",
      "[]\n",
      "['9', 'z']\n",
      "['9', 'z']\n"
     ]
    }
   ],
   "source": [
    "import re\n",
    "import regex  # pip install regex\n",
    "\n",
    "s = 'Hello, world!'\n",
    "\n",
    "print(re.search('.+', s))\n",
    "print(re.search('.+?', s))\n",
    "print(re.search('.+?,', s))\n",
    "\n",
    "s2 = ',+9z'\n",
    "\n",
    "print(re.findall(r'[[:alnum:]]', s2))\n",
    "print(regex.findall(r'[[:alnum:]]', s2))\n",
    "print(regex.findall(r'\\p{posix_alnum}', s2))\n",
    "\n",
    "# References:\n",
    "# https://pypi.python.org/pypi/regex"
   ]
  },
  {
   "cell_type": "code",
   "execution_count": null,
   "metadata": {
    "collapsed": true
   },
   "outputs": [],
   "source": []
  }
 ],
 "metadata": {
  "kernelspec": {
   "display_name": "Python 3",
   "language": "python",
   "name": "python3"
  },
  "language_info": {
   "codemirror_mode": {
    "name": "ipython",
    "version": 3
   },
   "file_extension": ".py",
   "mimetype": "text/x-python",
   "name": "python",
   "nbconvert_exporter": "python",
   "pygments_lexer": "ipython3",
   "version": "3.6.3"
  }
 },
 "nbformat": 4,
 "nbformat_minor": 2
}
