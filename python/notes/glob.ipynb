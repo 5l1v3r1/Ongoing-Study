{
 "cells": [
  {
   "cell_type": "code",
   "execution_count": 2,
   "metadata": {},
   "outputs": [
    {
     "name": "stdout",
     "output_type": "stream",
     "text": [
      ".gitignore\n",
      "True\n",
      "True\n",
      "True\n"
     ]
    }
   ],
   "source": [
    "import fnmatch\n",
    "import glob\n",
    "import os.path\n",
    "\n",
    "fnmatch = fnmatch.fnmatch\n",
    "escape = glob.escape\n",
    "p = print\n",
    "sep = os.path.sep\n",
    "\n",
    "p(escape('.gitignore'))\n",
    "p(fnmatch('.gitignore', '.gitignore'))\n",
    "p(fnmatch('.vs' + sep, '.vs' + sep))\n",
    "p(fnmatch('.vs' + sep, '[.]vs' + sep))\n",
    "\n",
    "\n",
    "# References:\n",
    "# https://stackoverflow.com/questions/22055500/python-glob-issues-with-directory-with-in-name\n"
   ]
  },
  {
   "cell_type": "code",
   "execution_count": null,
   "metadata": {
    "collapsed": true
   },
   "outputs": [],
   "source": []
  }
 ],
 "metadata": {
  "kernelspec": {
   "display_name": "Python 3",
   "language": "python",
   "name": "python3"
  },
  "language_info": {
   "codemirror_mode": {
    "name": "ipython",
    "version": 3
   },
   "file_extension": ".py",
   "mimetype": "text/x-python",
   "name": "python",
   "nbconvert_exporter": "python",
   "pygments_lexer": "ipython3",
   "version": "3.6.3"
  }
 },
 "nbformat": 4,
 "nbformat_minor": 2
}
